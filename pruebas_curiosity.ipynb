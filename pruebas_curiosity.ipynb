{
 "cells": [
  {
   "cell_type": "markdown",
   "metadata": {},
   "source": [
    "PRUEBA 1"
   ]
  },
  {
   "cell_type": "code",
   "execution_count": null,
   "metadata": {},
   "outputs": [],
   "source": [
    "DATOS CSV"
   ]
  },
  {
   "cell_type": "code",
   "execution_count": null,
   "metadata": {},
   "outputs": [],
   "source": [
    "import pandas as pd\n",
    "\n",
    "# Cargar datos desde un archivo CSV\n",
    "df = pd.read_csv(\"datos_chemcam.csv\")\n",
    "\n",
    "# Mostrar las primeras filas\n",
    "print(df.head())"
   ]
  },
  {
   "cell_type": "markdown",
   "metadata": {},
   "source": [
    "DATOS FITS (espectros e imágenes científicas)"
   ]
  },
  {
   "cell_type": "code",
   "execution_count": null,
   "metadata": {},
   "outputs": [],
   "source": [
    "from astropy.io import fits\n",
    "import matplotlib.pyplot as plt\n",
    "import numpy as np\n",
    "\n",
    "# Abrir archivo FITS\n",
    "archivo_fits = \"datos_mastcam.fits\"\n",
    "hdul = fits.open(archivo_fits)\n",
    "\n",
    "# Ver información del archivo\n",
    "hdul.info()\n",
    "\n",
    "# Extraer datos y graficar espectro\n",
    "espectro = hdul[1].data  # Dependiendo del FITS, la data puede estar en otra extensión\n",
    "longitud_onda = espectro['wavelength']\n",
    "intensidad = espectro['flux']\n",
    "\n",
    "plt.plot(longitud_onda, intensidad)\n",
    "plt.xlabel(\"Longitud de onda (nm)\")\n",
    "plt.ylabel(\"Intensidad\")\n",
    "plt.title(\"Firma espectral del Gale Crater\")\n",
    "plt.show()"
   ]
  },
  {
   "cell_type": "markdown",
   "metadata": {},
   "source": [
    "DATOS JSON"
   ]
  },
  {
   "cell_type": "code",
   "execution_count": null,
   "metadata": {},
   "outputs": [],
   "source": [
    "import json\n",
    "\n",
    "# Cargar archivo JSON\n",
    "with open(\"datos_curiosity.json\") as f:\n",
    "    data = json.load(f)\n",
    "\n",
    "# Ver estructura de datos\n",
    "print(json.dumps(data, indent=4))"
   ]
  },
  {
   "cell_type": "markdown",
   "metadata": {},
   "source": [
    "Análisis Espectral y Clasificación de Minerales"
   ]
  },
  {
   "cell_type": "code",
   "execution_count": null,
   "metadata": {},
   "outputs": [],
   "source": [
    "#agrupa espectros similares en diferentes categorías (minerales o tipos de suelo).\n",
    "\n",
    "from sklearn.cluster import KMeans\n",
    "import numpy as np\n",
    "\n",
    "#simulación de datos espectrales\n",
    "X = np.array([\n",
    "    [400, 0.5], [450, 0.6], [500, 0.55],  # Espectro 1\n",
    "    [400, 0.3], [450, 0.35], [500, 0.4],  # Espectro 2\n",
    "])\n",
    "\n",
    "#aplicar K-Means para encontrar patrones\n",
    "kmeans = KMeans(n_clusters=2)\n",
    "kmeans.fit(X)\n",
    "\n",
    "#etiquetas de clasificación\n",
    "labels = kmeans.labels_\n",
    "print(labels)"
   ]
  },
  {
   "cell_type": "markdown",
   "metadata": {},
   "source": [
    "Relación con Composición Química (ChemCam)"
   ]
  },
  {
   "cell_type": "code",
   "execution_count": null,
   "metadata": {},
   "outputs": [],
   "source": [
    "#yuda a identificar qué minerales están correlacionados con qué firmas espectrales.\n",
    "\n",
    "import seaborn as sns\n",
    "import matplotlib.pyplot as plt\n",
    "\n",
    "# Simulación de datos químicos (proporción de óxidos)\n",
    "df = pd.DataFrame({\n",
    "    \"Óxido de Hierro (%)\": [10, 15, 20, 25],\n",
    "    \"Óxido de Silicio (%)\": [50, 45, 40, 35],\n",
    "    \"Tipo de Mineral\": [\"Hematita\", \"Magnetita\", \"Basalto\", \"Olivino\"]\n",
    "})\n",
    "\n",
    "# Graficar correlación\n",
    "sns.pairplot(df, hue=\"Tipo de Mineral\")\n",
    "plt.show()"
   ]
  },
  {
   "cell_type": "markdown",
   "metadata": {},
   "source": [
    "Relacionar con Tamaño de Grano"
   ]
  },
  {
   "cell_type": "code",
   "execution_count": null,
   "metadata": {},
   "outputs": [],
   "source": [
    "# Diccionario que relaciona minerales con tamaño de grano\n",
    "granos = {\n",
    "    \"Hematita\": \"Fino\",\n",
    "    \"Magnetita\": \"Grueso\",\n",
    "    \"Basalto\": \"Grueso\",\n",
    "    \"Olivino\": \"Fino\"\n",
    "}\n",
    "\n",
    "df[\"Tamaño de Grano\"] = df[\"Tipo de Mineral\"].map(granos)\n",
    "print(df)"
   ]
  },
  {
   "cell_type": "markdown",
   "metadata": {},
   "source": [
    "Algoritmo de clasificación para predecir el tamaño de grano en función de las firmas espectrales"
   ]
  }
 ],
 "metadata": {
  "kernelspec": {
   "display_name": "Python 3",
   "language": "python",
   "name": "python3"
  },
  "language_info": {
   "codemirror_mode": {
    "name": "ipython",
    "version": 3
   },
   "file_extension": ".py",
   "mimetype": "text/x-python",
   "name": "python",
   "nbconvert_exporter": "python",
   "pygments_lexer": "ipython3",
   "version": "3.11.3"
  }
 },
 "nbformat": 4,
 "nbformat_minor": 2
}
