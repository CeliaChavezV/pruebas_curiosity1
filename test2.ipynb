{
 "cells": [
  {
   "cell_type": "markdown",
   "metadata": {},
   "source": [
    "IMPRIMIR DATOS"
   ]
  },
  {
   "cell_type": "code",
   "execution_count": null,
   "metadata": {},
   "outputs": [
    {
     "name": "stdout",
     "output_type": "stream",
     "text": [
      "hola mundo\n"
     ]
    }
   ],
   "source": [
    "print(\"esta es una modificacion    gracias\")"
   ]
  },
  {
   "cell_type": "code",
   "execution_count": 79,
   "metadata": {},
   "outputs": [],
   "source": [
    "i=1+2"
   ]
  },
  {
   "cell_type": "markdown",
   "metadata": {},
   "source": [
    "\n",
    "DECLARAR VARIABLE"
   ]
  },
  {
   "cell_type": "code",
   "execution_count": 80,
   "metadata": {},
   "outputs": [
    {
     "name": "stdout",
     "output_type": "stream",
     "text": [
      "1\n",
      "6\n",
      "[1, 2, 3, 4, 6, 'mi hermosa', 'chulapichula']\n",
      "[1, 2, 3, 4, 6, 'mi hermosa', 'chulapichula', 1, 7, 4]\n",
      "['celia', 2, 3, 4, 6, 'mi hermosa', 'chulapichula', 1, 7, 4]\n",
      "celia\n",
      "{'color': 'rojo', 'kilometraje': 10000}\n",
      "78\n",
      "[{'a': 1, 'b': 3}, 4, [4, 5, 6, 7]]\n"
     ]
    }
   ],
   "source": [
    "#a=2 comentario\n",
    "'''\n",
    "a=\"a\"\n",
    "print(a)\n",
    "b=\"guidance\"\n",
    "c=3.2\n",
    "'''\n",
    "\n",
    "#LISTAS\n",
    "beba=[1,2,3,4,6,\"mi hermosa\"]\n",
    "print(beba[0])#recorrer de izquierda a derecha\n",
    "print(beba[-2]) #recorrer la lista de derecha a izquierda\n",
    "beba.append(\"chula\" + \"pichula\") #anadir nuevos datos\n",
    "print(beba)\n",
    "beba.extend([1,7,4])#juntar listas\n",
    "print(beba)\n",
    "beba[0]=\"celia\"\n",
    "print(beba)\n",
    "\n",
    "#TUPLAS\n",
    "R=(\"celia\",342,4,6,8) #no se pueden manipular los valores\n",
    "print(R[0])\n",
    "\n",
    "#DICCIONARIO\n",
    "dic={\"color\":\"rojo\",\"kilometraje\":10000}\n",
    "print(dic)\n",
    "tweets={\"erz456\":\"fueraelc chaca\",\"likes\":[3345,78,90],\"corrdenadas\":\"morelos\",\"e\":(8,9)}\n",
    "tweets[\"corrdenadas\"]=\"tampico\"\n",
    "print(tweets[\"likes\"][1])\n",
    "print([{\"a\":1,\"b\":3},4,[4,5,6,7]])\n",
    "\n",
    "\n",
    "\n"
   ]
  },
  {
   "cell_type": "code",
   "execution_count": 81,
   "metadata": {},
   "outputs": [
    {
     "name": "stdout",
     "output_type": "stream",
     "text": [
      "6\n",
      "hola\n"
     ]
    }
   ],
   "source": [
    "def nombre_funcion(a,b,c):\n",
    "    x=a\n",
    "    y=b\n",
    "    z=c\n",
    "    return x+y+z\n",
    "def funcion():\n",
    "    #pass\n",
    "    print(\"hola\")\n",
    "\n",
    "print(nombre_funcion(1,2,3))\n",
    "funcion()\n",
    "\n"
   ]
  },
  {
   "cell_type": "code",
   "execution_count": 82,
   "metadata": {},
   "outputs": [
    {
     "name": "stdout",
     "output_type": "stream",
     "text": [
      "True\n",
      "pasa\n"
     ]
    }
   ],
   "source": [
    "'''\n",
    "if condicion:\n",
    "    codigo\n",
    "\n",
    "'''\n",
    "verdadero=True\n",
    "falso=False\n",
    "\n",
    "print(1<2)\n",
    "\n",
    "jugador1={\"nombre\":\"juan\",\"estatura\":1.8}\n",
    "jugador2={\"nombre\":\"yahir\",\"estatura\":1.6}\n",
    "\n",
    "def pasa(jugador):\n",
    "    if jugador[\"estatura\"]>1.70:\n",
    "        print(\"pasa\")\n",
    "\n",
    "    #elif condicion: else if\n",
    "    else:\n",
    "        print(\"adios\")\n",
    "\n",
    "pasa(jugador1)"
   ]
  },
  {
   "cell_type": "code",
   "execution_count": 83,
   "metadata": {},
   "outputs": [
    {
     "name": "stdout",
     "output_type": "stream",
     "text": [
      "numero\n",
      "7000\n",
      "1000\n",
      "[1, 2]\n",
      "neto\n",
      "20\n"
     ]
    }
   ],
   "source": [
    "#FOR\n",
    "#for (i=0;i<10;i++){} ya no\n",
    "#se usan iteradores :. listas, diccionarios tuplas\n",
    "\n",
    "a=[1,2,3]\n",
    "\n",
    "#for numero in a:\n",
    " #   print(numero)\n",
    "\n",
    "#print(list(range(4,10,2))) #inicio, final,salto\n",
    "#i (1.10)\n",
    "\n",
    "#for i in range(4,11):\n",
    "#    print(i)\n",
    "for numero in [\"numero\",7000,1000,[1,2]]:\n",
    "    print(numero)\n",
    "\n",
    "d={\"nombre\":\"neto\",\"edad\":20}\n",
    "for dato in d:\n",
    "    print(d[dato])\n",
    "#d[\"edad\"]=20\n",
    "#d[\"nombre\"]=neto\n",
    "          "
   ]
  }
 ],
 "metadata": {
  "kernelspec": {
   "display_name": "Python 3",
   "language": "python",
   "name": "python3"
  },
  "language_info": {
   "codemirror_mode": {
    "name": "ipython",
    "version": 3
   },
   "file_extension": ".py",
   "mimetype": "text/x-python",
   "name": "python",
   "nbconvert_exporter": "python",
   "pygments_lexer": "ipython3",
   "version": "3.11.3"
  }
 },
 "nbformat": 4,
 "nbformat_minor": 2
}
